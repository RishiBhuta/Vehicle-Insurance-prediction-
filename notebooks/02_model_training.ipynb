{
 "cells": [
  {
   "cell_type": "markdown",
   "metadata": {},
   "source": [
    "# Vehicle Insurance Premium Prediction - Simple Model Training\n",
    "This notebook trains 3 simple models to predict vehicle insurance premiums:\n",
    "1. **Linear Regression** - Simple straight line relationship\n",
    "2. **Decision Tree** - Rule-based decisions\n",
    "3. **Random Forest** - Multiple decision trees combined"
   ]
  },
  {
   "cell_type": "code",
   "execution_count": 1,
   "metadata": {},
   "outputs": [
    {
     "name": "stdout",
     "output_type": "stream",
     "text": [
      " Libraries loaded successfully!\n"
     ]
    }
   ],
   "source": [
    "# Simplified imports - only what we need\n",
    "import pandas as pd\n",
    "import numpy as np\n",
    "import matplotlib.pyplot as plt\n",
    "from sklearn.model_selection import train_test_split\n",
    "from sklearn.linear_model import LinearRegression\n",
    "from sklearn.tree import DecisionTreeRegressor\n",
    "from sklearn.ensemble import RandomForestRegressor\n",
    "from sklearn.metrics import mean_squared_error, mean_absolute_error, r2_score\n",
    "import pickle\n",
    "import warnings\n",
    "warnings.filterwarnings('ignore')\n",
    "\n",
    "print(\" Libraries loaded successfully!\")"
   ]
  },
  {
   "cell_type": "code",
   "execution_count": 2,
   "metadata": {},
   "outputs": [
    {
     "name": "stdout",
     "output_type": "stream",
     "text": [
      " Dataset loaded! Shape: (101, 19)\n",
      " Sample data:\n",
      "   driver_age  driver_gender  years_experience  vehicle_make  vehicle_model  \\\n",
      "0   -1.148420              1         -1.358617            12             23   \n",
      "1    1.067252              0          0.668095             4              6   \n",
      "2   -1.480771              1         -1.597054             1             97   \n",
      "3   -0.040584              0          0.072003             3             35   \n",
      "4   -0.816069              1         -0.762526            10              7   \n",
      "\n",
      "   vehicle_value  annual_mileage  location  coverage_type  deductible  \\\n",
      "0      -1.016860       -0.320276         2              0   -0.501578   \n",
      "1      -1.430984       -1.323310         1              1    1.340580   \n",
      "2       1.364356        0.432000         2              0   -1.422657   \n",
      "3      -0.395673        1.685793         0              0   -0.501578   \n",
      "4      -0.809798       -0.821793         1              0    1.340580   \n",
      "\n",
      "   accidents_last_3_years  violations_last_3_years  credit_score  vehicle_age  \\\n",
      "0                       0                        1     -0.760271     0.155026   \n",
      "1                       1                        0      0.245677     1.622928   \n",
      "2                       0                        2     -1.933877    -0.823575   \n",
      "3                       2                        0     -0.424955     0.644327   \n",
      "4                       0                        0      0.580993    -0.334275   \n",
      "\n",
      "   risk_score  experience_ratio  high_value_vehicle  high_mileage  premium  \n",
      "0   -0.102392         -1.579210                   0             0     1850  \n",
      "1    0.193082          0.476183                   0             0     1200  \n",
      "2    0.784028         -2.051464                   1             0     3200  \n",
      "3    1.374975          0.375626                   0             0     2100  \n",
      "4   -0.988811         -0.529390                   0             0     1450  \n"
     ]
    }
   ],
   "source": [
    "# Load the preprocessed data\n",
    "try:\n",
    "    df = pd.read_csv('../dataset/vehicle_insurance_preprocessed.csv')\n",
    "    print(f\" Dataset loaded! Shape: {df.shape}\")\n",
    "    print(f\" Sample data:\")\n",
    "    print(df.head())\n",
    "except FileNotFoundError:\n",
    "    print(\" Dataset not found. Run the preprocessing notebook first!\")\n",
    "    raise"
   ]
  },
  {
   "cell_type": "code",
   "execution_count": 3,
   "metadata": {},
   "outputs": [
    {
     "name": "stdout",
     "output_type": "stream",
     "text": [
      " Data validation:\n",
      "   • Features shape: (101, 18)\n",
      "   • Target shape: (101,)\n",
      "   • Target range: $1180 - $3500\n",
      "   • Missing values in X: 0\n",
      "   • Missing values in y: 0\n",
      "\n",
      "📈 Final Features (X): 18 columns, 101 rows\n",
      "🎯 Final Target (y): 101 premium values\n",
      "\n",
      "📋 Feature names: ['driver_age', 'driver_gender', 'years_experience', 'vehicle_make', 'vehicle_model', 'vehicle_value', 'annual_mileage', 'location', 'coverage_type', 'deductible', 'accidents_last_3_years', 'violations_last_3_years', 'credit_score', 'vehicle_age', 'risk_score', 'experience_ratio', 'high_value_vehicle', 'high_mileage']\n"
     ]
    }
   ],
   "source": [
    "# Simple data preparation\n",
    "# Separate features (X) and target (y)\n",
    "X = df.drop('premium', axis=1)  # All columns except premium\n",
    "y = df['premium']  # Only the premium column\n",
    "\n",
    "# Data validation to prevent negative R² scores\n",
    "print(f\" Data validation:\")\n",
    "print(f\"   • Features shape: {X.shape}\")\n",
    "print(f\"   • Target shape: {y.shape}\")\n",
    "print(f\"   • Target range: ${y.min():.0f} - ${y.max():.0f}\")\n",
    "print(f\"   • Missing values in X: {X.isnull().sum().sum()}\")\n",
    "print(f\"   • Missing values in y: {y.isnull().sum()}\")\n",
    "\n",
    "# Handle any remaining issues\n",
    "if X.isnull().sum().sum() > 0:\n",
    "    print(\" Filling remaining missing values...\")\n",
    "    X = X.fillna(X.median())\n",
    "\n",
    "if y.isnull().sum() > 0:\n",
    "    print(\" Removing rows with missing target values...\")\n",
    "    valid_indices = ~y.isnull()\n",
    "    X = X[valid_indices]\n",
    "    y = y[valid_indices]\n",
    "\n",
    "print(f\"\\n📈 Final Features (X): {X.shape[1]} columns, {X.shape[0]} rows\")\n",
    "print(f\"🎯 Final Target (y): {y.shape[0]} premium values\")\n",
    "print(f\"\\n📋 Feature names: {list(X.columns)}\")"
   ]
  },
  {
   "cell_type": "code",
   "execution_count": 4,
   "metadata": {},
   "outputs": [
    {
     "name": "stdout",
     "output_type": "stream",
     "text": [
      " Training data: 80 samples\n",
      " Testing data: 21 samples\n",
      "\n",
      " Why split? We train on 80% and test on 20% to see how well our model works on new data!\n"
     ]
    }
   ],
   "source": [
    "# Simple train-test split explanation\n",
    "# Split data: 80% for training, 20% for testing\n",
    "X_train, X_test, y_train, y_test = train_test_split(\n",
    "    X, y, test_size=0.2, random_state=42\n",
    ")\n",
    "\n",
    "print(f\" Training data: {X_train.shape[0]} samples\")\n",
    "print(f\" Testing data: {X_test.shape[0]} samples\")\n",
    "print(f\"\\n Why split? We train on 80% and test on 20% to see how well our model works on new data!\")"
   ]
  },
  {
   "cell_type": "code",
   "execution_count": 5,
   "metadata": {},
   "outputs": [
    {
     "name": "stdout",
     "output_type": "stream",
     "text": [
      " Training 3 models with improved parameters...\n",
      "\n",
      " Training Linear Regression...\n",
      " Linear Regression has good R² score (0.872)\n",
      " Linear Regression completed!\n",
      "    Accuracy: 87.2%\n",
      "    Average error: $102\n",
      "\n",
      " Training Decision Tree...\n",
      " Decision Tree has low R² score (0.168) - model needs improvement\n",
      " Decision Tree completed!\n",
      "    Accuracy: 16.8%\n",
      "    Average error: $266\n",
      "\n",
      " Training Random Forest...\n",
      " Random Forest has good R² score (0.756)\n",
      " Random Forest completed!\n",
      "    Accuracy: 75.6%\n",
      "    Average error: $146\n",
      "\n",
      " All models trained!\n"
     ]
    }
   ],
   "source": [
    "# Simplified model training with clear explanations\n",
    "# Create our 3 simple models with optimized parameters\n",
    "models = {\n",
    "    'Linear Regression': LinearRegression(),\n",
    "    'Decision Tree': DecisionTreeRegressor(random_state=42, max_depth=12, min_samples_split=10, min_samples_leaf=5),\n",
    "    'Random Forest': RandomForestRegressor(n_estimators=100, random_state=42, max_depth=12, min_samples_split=5, min_samples_leaf=2)\n",
    "}\n",
    "\n",
    "# Store results here\n",
    "results = {}\n",
    "\n",
    "print(\" Training 3 models with improved parameters...\\n\")\n",
    "\n",
    "for name, model in models.items():\n",
    "    print(f\" Training {name}...\")\n",
    "    \n",
    "    # Train the model\n",
    "    model.fit(X_train, y_train)\n",
    "    \n",
    "    # Make predictions\n",
    "    y_pred = model.predict(X_test)\n",
    "    \n",
    "    # Calculate how good it is\n",
    "    r2 = r2_score(y_test, y_pred)\n",
    "    mae = mean_absolute_error(y_test, y_pred)\n",
    "    \n",
    "    # Better validation with explanations\n",
    "    if r2 < 0:\n",
    "        print(f\" Warning: {name} has negative R² score ({r2:.3f})\")\n",
    "        print(f\"   This means the model is worse than predicting the mean.\")\n",
    "        print(f\"   Possible causes: insufficient data, poor features, or overfitting.\")\n",
    "    elif r2 < 0.5:\n",
    "        print(f\" {name} has low R² score ({r2:.3f}) - model needs improvement\")\n",
    "    else:\n",
    "        print(f\" {name} has good R² score ({r2:.3f})\")\n",
    "    \n",
    "    # Store results\n",
    "    results[name] = {\n",
    "        'model': model,\n",
    "        'predictions': y_pred,\n",
    "        'r2_score': r2,\n",
    "        'mae': mae\n",
    "    }\n",
    "    \n",
    "    print(f\" {name} completed!\")\n",
    "    print(f\"    Accuracy: {r2*100:.1f}%\")\n",
    "    print(f\"    Average error: ${mae:.0f}\\n\")\n",
    "\n",
    "print(\" All models trained!\")"
   ]
  },
  {
   "cell_type": "code",
   "execution_count": 6,
   "metadata": {},
   "outputs": [
    {
     "name": "stdout",
     "output_type": "stream",
     "text": [
      " MODEL COMPARISON\n",
      "==================================================\n",
      "            Model Accuracy (%) Average Error ($)\n",
      "Linear Regression        87.2%              $102\n",
      "    Decision Tree        16.8%              $266\n",
      "    Random Forest        75.6%              $146\n",
      "\n",
      " WINNER: Linear Regression\n",
      "    Accuracy: 87.2%\n",
      "    Average Error: $102\n"
     ]
    }
   ],
   "source": [
    "# Simple model comparison\n",
    "# Compare all models\n",
    "print(\" MODEL COMPARISON\")\n",
    "print(\"=\" * 50)\n",
    "\n",
    "comparison = []\n",
    "for name, result in results.items():\n",
    "    comparison.append({\n",
    "        'Model': name,\n",
    "        'Accuracy (%)': f\"{result['r2_score']*100:.1f}%\",\n",
    "        'Average Error ($)': f\"${result['mae']:.0f}\"\n",
    "    })\n",
    "\n",
    "comparison_df = pd.DataFrame(comparison)\n",
    "print(comparison_df.to_string(index=False))\n",
    "\n",
    "# Find the best model\n",
    "best_model_name = max(results.keys(), key=lambda x: results[x]['r2_score'])\n",
    "best_model = results[best_model_name]['model']\n",
    "best_accuracy = results[best_model_name]['r2_score']\n",
    "\n",
    "print(f\"\\n WINNER: {best_model_name}\")\n",
    "print(f\"    Accuracy: {best_accuracy*100:.1f}%\")\n",
    "print(f\"    Average Error: ${results[best_model_name]['mae']:.0f}\")"
   ]
  },
  {
   "cell_type": "code",
   "execution_count": 7,
   "metadata": {},
   "outputs": [
    {
     "data": {
      "image/png": "[encoded data removed]",
      "text/plain": [
       "<Figure size 1200x400 with 2 Axes>"
      ]
     },
     "metadata": {},
     "output_type": "display_data"
    },
    {
     "name": "stdout",
     "output_type": "stream",
     "text": [
      " The red line shows perfect predictions. Points closer to the line = better predictions!\n"
     ]
    }
   ],
   "source": [
    "# Simple visualization\n",
    "# Show how well our best model works\n",
    "plt.figure(figsize=(12, 4))\n",
    "\n",
    "# Plot 1: Actual vs Predicted\n",
    "plt.subplot(1, 2, 1)\n",
    "best_predictions = results[best_model_name]['predictions']\n",
    "plt.scatter(y_test, best_predictions, alpha=0.6, color='blue')\n",
    "plt.plot([y_test.min(), y_test.max()], [y_test.min(), y_test.max()], 'r--', linewidth=2)\n",
    "plt.xlabel('Actual Premium ($)')\n",
    "plt.ylabel('Predicted Premium ($)')\n",
    "plt.title(f'{best_model_name}\\nAccuracy: {best_accuracy*100:.1f}%')\n",
    "plt.grid(True, alpha=0.3)\n",
    "\n",
    "# Plot 2: Model Comparison\n",
    "plt.subplot(1, 2, 2)\n",
    "model_names = list(results.keys())\n",
    "accuracies = [results[name]['r2_score']*100 for name in model_names]\n",
    "colors = ['gold' if name == best_model_name else 'lightblue' for name in model_names]\n",
    "plt.bar(model_names, accuracies, color=colors)\n",
    "plt.ylabel('Accuracy (%)')\n",
    "plt.title('Model Comparison')\n",
    "plt.xticks(rotation=45)\n",
    "plt.grid(True, alpha=0.3)\n",
    "\n",
    "plt.tight_layout()\n",
    "plt.show()\n",
    "\n",
    "print(\" The red line shows perfect predictions. Points closer to the line = better predictions!\")"
   ]
  },
  {
   "cell_type": "code",
   "execution_count": 8,
   "metadata": {},
   "outputs": [
    {
     "name": "stdout",
     "output_type": "stream",
     "text": [
      " Linear Regression doesn't show feature importance, but all features contribute to the prediction!\n"
     ]
    }
   ],
   "source": [
    "# Simple feature importance (only for tree-based models)\n",
    "# Show which factors matter most\n",
    "if best_model_name in ['Decision Tree', 'Random Forest']:\n",
    "    importance = best_model.feature_importances_\n",
    "    feature_names = X.columns\n",
    "    \n",
    "    # Create importance dataframe\n",
    "    importance_df = pd.DataFrame({\n",
    "        'Feature': feature_names,\n",
    "        'Importance': importance\n",
    "    }).sort_values('Importance', ascending=False)\n",
    "    \n",
    "    print(f\"🔍 MOST IMPORTANT FACTORS ({best_model_name}):\")\n",
    "    print(\"=\" * 40)\n",
    "    for i, row in importance_df.head(5).iterrows():\n",
    "        print(f\"{row['Feature']}: {row['Importance']:.3f}\")\n",
    "    \n",
    "    # Plot importance\n",
    "    plt.figure(figsize=(10, 6))\n",
    "    plt.barh(importance_df['Feature'], importance_df['Importance'])\n",
    "    plt.xlabel('Importance Score')\n",
    "    plt.title(f'Feature Importance - {best_model_name}')\n",
    "    plt.grid(True, alpha=0.3)\n",
    "    plt.tight_layout()\n",
    "    plt.show()\n",
    "    \n",
    "else:\n",
    "    print(f\" {best_model_name} doesn't show feature importance, but all features contribute to the prediction!\")"
   ]
  },
  {
   "cell_type": "code",
   "execution_count": 9,
   "metadata": {},
   "outputs": [
    {
     "name": "stdout",
     "output_type": "stream",
     "text": [
      " Best model saved: Linear Regression\n",
      " Location: ../models/best_vehicle_insurance_model.pkl\n",
      "\n",
      " Final Results:\n",
      "   • Model: Linear Regression\n",
      "   • Accuracy: 87.2%\n",
      "   • Average Error: $102\n",
      "\n",
      " R² Score Explanation:\n",
      "   • 100% = Perfect predictions\n",
      "   • 80-99% = Excellent model\n",
      "   • 60-79% = Good model\n",
      "   • 40-59% = Fair model\n",
      "   • 0-39% = Poor model\n",
      "   • Negative = Worse than guessing the average\n",
      "\n",
      " Model training completed successfully!\n"
     ]
    }
   ],
   "source": [
    "# Simple model saving\n",
    "# Save our best model\n",
    "import os\n",
    "os.makedirs('../models', exist_ok=True)\n",
    "\n",
    "# Save the model\n",
    "with open('../models/best_vehicle_insurance_model.pkl', 'wb') as f:\n",
    "    pickle.dump(best_model, f)\n",
    "\n",
    "# Save model info\n",
    "model_info = {\n",
    "    'model_name': best_model_name,\n",
    "    'accuracy': best_accuracy,\n",
    "    'average_error': results[best_model_name]['mae'],\n",
    "    'feature_names': list(X.columns)\n",
    "}\n",
    "\n",
    "with open('../models/model_info.pkl', 'wb') as f:\n",
    "    pickle.dump(model_info, f)\n",
    "\n",
    "print(f\" Best model saved: {best_model_name}\")\n",
    "print(f\" Location: ../models/best_vehicle_insurance_model.pkl\")\n",
    "print(f\"\\n Final Results:\")\n",
    "print(f\"   • Model: {best_model_name}\")\n",
    "print(f\"   • Accuracy: {best_accuracy*100:.1f}%\")\n",
    "print(f\"   • Average Error: ${results[best_model_name]['mae']:.0f}\")\n",
    "\n",
    "print(f\"\\n R² Score Explanation:\")\n",
    "print(f\"   • 100% = Perfect predictions\")\n",
    "print(f\"   • 80-99% = Excellent model\")\n",
    "print(f\"   • 60-79% = Good model\")\n",
    "print(f\"   • 40-59% = Fair model\")\n",
    "print(f\"   • 0-39% = Poor model\")\n",
    "print(f\"   • Negative = Worse than guessing the average\")\n",
    "\n",
    "print(f\"\\n Model training completed successfully!\")"
   ]
  }
 ],
 "metadata": {
  "kernelspec": {
   "display_name": ".venv",
   "language": "python",
   "name": "python3"
  },
  "language_info": {
   "codemirror_mode": {
    "name": "ipython",
    "version": 3
   },
   "file_extension": ".py",
   "mimetype": "text/x-python",
   "name": "python",
   "nbconvert_exporter": "python",
   "pygments_lexer": "ipython3",
   "version": "3.13.7"
  }
 },
 "nbformat": 4,
 "nbformat_minor": 4
}
